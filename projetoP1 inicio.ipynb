import pandas as pd
data = pd.read_csv('vacinados.csv', encoding = "UTF-8", sep=";")
data.head()

# Contabilizar que dose de vacina foi aplicada na pessoa
import matplotlib.pyplot as plt 
umaDose = data.loc[data['dose'] == 1]
qtdRecebUmaDose = umaDose.count()[0]
duasDoses = data.loc[data['dose'] == 2]
qtdRecebDuasDoses = duasDoses.count()[0]
tresDoses = data.loc[data['dose'] == 3]
qtdRecebTresDoses = tresDoses.count()[0]

labels = ['Primeira dose', 'Segunda dose', 'Terceira dose']
values = [qtdRecebUmaDose,qtdRecebDuasDoses, qtdRecebTresDoses]

fig1, ax1 = plt.subplots()
plt.rcParams['xtick.labelsize'] = 14
ax1.pie(values, labels=labels, autopct='%1.1f%%', shadow=False, startangle=90, colors = ['orange', 'steelblue', 'silver'], explode=(0.05, 0.05, 0.05))
plt.title('Doses de vacina aplicadas')
ax1.axis('equal')
plt.show()
